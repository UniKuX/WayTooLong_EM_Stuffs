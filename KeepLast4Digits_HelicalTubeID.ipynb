{
 "cells": [
  {
   "cell_type": "code",
   "execution_count": null,
   "id": "0c5431c9-0837-4a38-972e-14903ea27fc1",
   "metadata": {},
   "outputs": [],
   "source": [
    "import starfile\n",
    "import pandas as pd\n",
    "\n",
    "star_file = input(\"Enter the path to the STAR file: \")\n",
    "\n",
    "# Load the STAR file\n",
    "star_data = starfile.read(star_file)\n",
    "\n",
    "# Extract the particles data (assuming 'data_particles' exists)\n",
    "df_particles = star_data['particles']\n",
    "\n",
    "# Modify the _rlnHelicalTubeID column to keep only the last 4 digits\n",
    "df_particles['rlnHelicalTubeID'] = df_particles['rlnHelicalTubeID'].astype(str).str[-4:].astype(int) + 1000\n",
    "\n",
    "# Save the modified STAR file\n",
    "star_data['data_particles'] = df_particles\n",
    "starfile.write(star_data, 'particles_modified_tubeID.star')\n",
    "\n",
    "print(\"Modified STAR file saved as 'particles_modified_tubeID.star'.\")\n",
    "\n",
    "\n",
    "\n"
   ]
  },
  {
   "cell_type": "code",
   "execution_count": null,
   "id": "1fc0953b-771e-4f74-84ab-e981da8690c5",
   "metadata": {},
   "outputs": [],
   "source": []
  }
 ],
 "metadata": {
  "kernelspec": {
   "display_name": "Python 3 (ipykernel)",
   "language": "python",
   "name": "python3"
  },
  "language_info": {
   "codemirror_mode": {
    "name": "ipython",
    "version": 3
   },
   "file_extension": ".py",
   "mimetype": "text/x-python",
   "name": "python",
   "nbconvert_exporter": "python",
   "pygments_lexer": "ipython3",
   "version": "3.11.8"
  }
 },
 "nbformat": 4,
 "nbformat_minor": 5
}
